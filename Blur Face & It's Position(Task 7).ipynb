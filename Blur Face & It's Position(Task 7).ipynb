{
 "cells": [
  {
   "cell_type": "code",
   "execution_count": 2,
   "id": "ae9bc86a",
   "metadata": {},
   "outputs": [],
   "source": [
    "import cv2\n",
    "cap = cv2.VideoCapture(0)\n",
    "# Haar Cascade to detect frontal faces\n",
    "face_cascade = cv2.CascadeClassifier(\"haarcascade_frontalface_default.xml\")\n",
    "# Setting position when click on image at anywhere \n",
    "def lw(event , x , y, i,j):\n",
    "    if event == cv2.EVENT_LBUTTONDOWN:\n",
    "        print(\"x :\", x , \"y :\" , y)\n",
    "        cv2.circle(image , (x,y) , 50 , [0,255,0], -1 )\n",
    "    \n",
    "#cv2.imshow(photo)\n",
    "cv2.namedWindow(winname=\"mywin1\")\n",
    "cv2.setMouseCallback( \"mywin1\" , lw  )\n",
    "\n",
    "while True:\n",
    "    ret, image = cap.read()\n",
    "    # Detect faces in the live Video Stream\n",
    "    faces = face_cascade.detectMultiScale(image, 1.3,5)\n",
    "    for (x,y,w,h) in faces:\n",
    "        # Enclose inside a blue rectangular box\n",
    "        cv2.rectangle(image,(x,y),(x+w,y+h),(255,140,200),3)\n",
    "        # Select only detected face portion for Blur \n",
    "        face_color = image[y:y + h, x:x + w]\n",
    "        # Blur the Face with Gaussian Blur of Kernel Size 51*51\n",
    "        blur = cv2.GaussianBlur(face_color, (51, 51), 0)\n",
    "        image[y:y + h, x:x + w] = blur\n",
    "    cv2.imshow('mywin1', image)\n",
    "    if cv2.waitKey(100) & 0xFF == ord('q'):\n",
    "        break \n",
    "cap.release()\n",
    "cv2.destroyAllWindows()"
   ]
  },
  {
   "cell_type": "code",
   "execution_count": null,
   "id": "c2fba89a",
   "metadata": {},
   "outputs": [],
   "source": []
  },
  {
   "cell_type": "code",
   "execution_count": null,
   "id": "28e119f6",
   "metadata": {},
   "outputs": [],
   "source": []
  }
 ],
 "metadata": {
  "kernelspec": {
   "display_name": "Python 3",
   "language": "python",
   "name": "python3"
  },
  "language_info": {
   "codemirror_mode": {
    "name": "ipython",
    "version": 3
   },
   "file_extension": ".py",
   "mimetype": "text/x-python",
   "name": "python",
   "nbconvert_exporter": "python",
   "pygments_lexer": "ipython3",
   "version": "3.8.8"
  }
 },
 "nbformat": 4,
 "nbformat_minor": 5
}
